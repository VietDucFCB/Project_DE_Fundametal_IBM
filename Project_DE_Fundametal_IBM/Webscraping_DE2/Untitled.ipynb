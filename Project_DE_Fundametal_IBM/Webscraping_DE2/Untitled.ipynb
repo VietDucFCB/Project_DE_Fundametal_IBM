{
 "cells": [
  {
   "cell_type": "code",
   "execution_count": 108,
   "id": "d3092da5",
   "metadata": {},
   "outputs": [],
   "source": [
    "import requests                  # Request library making HTTP requests to web servers\n",
    "from bs4 import BeautifulSoup    # Library used for web scraping and parsing HTML and XML documents\n",
    "import json                      # Library used for manipulate with json file"
   ]
  },
  {
   "cell_type": "code",
   "execution_count": 109,
   "id": "de31eec8",
   "metadata": {},
   "outputs": [],
   "source": [
    "# URL of the webpage with the table\n",
    "# URL of list of largest bank in the world\n",
    "url = 'https://web.archive.org/web/20200318083015/https://en.wikipedia.org/wiki/List_of_largest_banks'"
   ]
  },
  {
   "cell_type": "code",
   "execution_count": 110,
   "id": "1a1b9381",
   "metadata": {},
   "outputs": [],
   "source": [
    "# Send a GET request to the URL to fetch the webpage contents\n",
    "response = requests.get(url)"
   ]
  },
  {
   "cell_type": "code",
   "execution_count": 111,
   "id": "5b45500f",
   "metadata": {},
   "outputs": [],
   "source": [
    "# Common path in this project\n",
    "c_path = \"C:\\\\Users\\\\ASUS\\\\OneDrive\\\\Máy tính\\\\KHTN_HK2\\\\Webscraping_DE2\\\\\""
   ]
  },
  {
   "cell_type": "code",
   "execution_count": 112,
   "id": "574ee891",
   "metadata": {},
   "outputs": [
    {
     "name": "stdout",
     "output_type": "stream",
     "text": [
      "Data scraped and saved in: C:\\Users\\ASUS\\OneDrive\\Máy tính\\KHTN_HK2\\Webscraping_DE2\\bank_data.json file.\n"
     ]
    }
   ],
   "source": [
    "# Check if the request was successful (status code 200)\n",
    "if response.status_code == 200:\n",
    "    # Get the HTML content from the response\n",
    "    html_content = response.text\n",
    "    \n",
    "    # Parse the HTML content using BeautifulSoup\n",
    "    soup = BeautifulSoup(html_content, 'html.parser')\n",
    "    \n",
    "    # Find the table containing the data (using the table's 'wikitable' class)\n",
    "    table = soup.find('table', class_='wikitable')\n",
    "    \n",
    "    # Create empty list to store data\n",
    "    bank_data = []\n",
    "    \n",
    "    # Loop through table rows and extract data\n",
    "    for row in table.find_all('tr')[1:]:  # Start from the second row to skip the header\n",
    "        cells = row.find_all('td')\n",
    "        rank = cells[0].get_text(strip=True) # strip=True to remove leading and trailing whitespace (spaces, tabs, and newline characters) from a string \n",
    "        \n",
    "        # Find the 'a' tag that doesn't have a 'span' parent\n",
    "        a_tags = cells[1].find_all('a', string=lambda text: text and not text.find_parents('span'))\n",
    "        bank_name = a_tags[0]['title'] if a_tags else \"\"\n",
    "        total_assets = cells[2].get_text(strip=True)\n",
    "        \n",
    "        bank_data.append({\n",
    "                            'Rank': rank,\n",
    "                            'Bank Name': bank_name,\n",
    "                            'Total Assets (US$ Billion)': total_assets\n",
    "                            })\n",
    "    \n",
    "    # Save the data in a JSON file \n",
    "    with open('bank_data.json', 'w') as json_file:\n",
    "        # json.dump() for serialize (convert) Python objects into a JSON formatted string and write it to a file-like object, typically a text file\n",
    "        json_string = str(json.dump(bank_data, json_file, separators=(\",\", \":\")))\n",
    "        # setting format for json file\n",
    "        json_file.write(\"[\")\n",
    "        for i, line in enumerate(json_string.split('\\n')):\n",
    "            if i == 0:\n",
    "                json_file.write(line)\n",
    "            else:\n",
    "                json_file.write(f\"\\n    {line}\")\n",
    "        json_file.write(\"]\")\n",
    "    \n",
    "    print(\"Data scraped and saved in: \" + c_path + \"bank_data.json file.\")\n",
    "    \n",
    "else:\n",
    "    print(f\"Failed to retrieve the webpage. Status code: {response.status_code}\")"
   ]
  },
  {
   "cell_type": "code",
   "execution_count": 113,
   "id": "04d9447a",
   "metadata": {},
   "outputs": [],
   "source": [
    "import glob                         # this module helps in selecting files \n",
    "import pandas as pd                 # this module helps in processing CSV files\n",
    "from datetime import datetime       # this mdule to get real time"
   ]
  },
  {
   "cell_type": "code",
   "execution_count": 114,
   "id": "a9bec451",
   "metadata": {},
   "outputs": [],
   "source": [
    "logfile    = c_path + \"logfile.txt\"            # all event logs will be stored in this file\n",
    "targetfile = c_path + \"targetfile.csv\"         # file where transformed data is stored"
   ]
  },
  {
   "cell_type": "code",
   "execution_count": 116,
   "id": "475c8633",
   "metadata": {},
   "outputs": [
    {
     "name": "stdout",
     "output_type": "stream",
     "text": [
      "[{'Rank': '1', 'Bank Name': 'Industrial and Commercial Bank of China', 'Total Assets (US$ Billion)': '4,027.44'}, {'Rank': '2', 'Bank Name': 'China Construction Bank', 'Total Assets (US$ Billion)': '3,376.52'}, {'Rank': '3', 'Bank Name': 'Agricultural Bank of China', 'Total Assets (US$ Billion)': '3,287.36'}, {'Rank': '4', 'Bank Name': 'Bank of China', 'Total Assets (US$ Billion)': '3,092.21'}, {'Rank': '5', 'Bank Name': 'Mitsubishi UFJ Financial Group', 'Total Assets (US$ Billion)': '3,069.20'}, {'Rank': '6', 'Bank Name': 'HSBC', 'Total Assets (US$ Billion)': '2,715.15'}, {'Rank': '7', 'Bank Name': 'JPMorgan Chase', 'Total Assets (US$ Billion)': '2,687.38'}, {'Rank': '8', 'Bank Name': 'Bank of America', 'Total Assets (US$ Billion)': '2,354.51'}, {'Rank': '9', 'Bank Name': 'BNP Paribas', 'Total Assets (US$ Billion)': '2,336.66'}, {'Rank': '10', 'Bank Name': 'Crédit Agricole', 'Total Assets (US$ Billion)': '2,123.61'}, {'Rank': '11', 'Bank Name': 'Citigroup', 'Total Assets (US$ Billion)': '1,917.38'}, {'Rank': '12', 'Bank Name': 'Japan Post Bank', 'Total Assets (US$ Billion)': '1,911.48'}, {'Rank': '13', 'Bank Name': 'Wells Fargo', 'Total Assets (US$ Billion)': '1,895.88'}, {'Rank': '14', 'Bank Name': 'Sumitomo Mitsui Financial Group', 'Total Assets (US$ Billion)': '1,848.20'}, {'Rank': '15', 'Bank Name': 'Mizuho Financial Group', 'Total Assets (US$ Billion)': '1,837.80'}, {'Rank': '16', 'Bank Name': 'Banco Santander', 'Total Assets (US$ Billion)': '1,670.79'}, {'Rank': '17', 'Bank Name': 'Deutsche Bank', 'Total Assets (US$ Billion)': '1,543.55'}, {'Rank': '18', 'Bank Name': 'Société Générale', 'Total Assets (US$ Billion)': '1,485.31'}, {'Rank': '19', 'Bank Name': 'Groupe BPCE', 'Total Assets (US$ Billion)': '1,462.70'}, {'Rank': '20', 'Bank Name': 'Barclays', 'Total Assets (US$ Billion)': '1,444.39'}, {'Rank': '21', 'Bank Name': 'Bank of Communications', 'Total Assets (US$ Billion)': '1,385.81'}, {'Rank': '22', 'Bank Name': 'Postal Savings Bank of China', 'Total Assets (US$ Billion)': '1,383.63'}, {'Rank': '23', 'Bank Name': 'Royal Bank of Canada', 'Total Assets (US$ Billion)': '1,039.24'}, {'Rank': '24', 'Bank Name': 'Lloyds Banking Group', 'Total Assets (US$ Billion)': '1,016.55'}, {'Rank': '25', 'Bank Name': 'ING Group', 'Total Assets (US$ Billion)': '1,015.61'}, {'Rank': '26', 'Bank Name': 'Toronto-Dominion Bank', 'Total Assets (US$ Billion)': '1,006.00'}, {'Rank': '27', 'Bank Name': 'China Merchants Bank', 'Total Assets (US$ Billion)': '980.81'}, {'Rank': '28', 'Bank Name': 'Crédit Mutuel', 'Total Assets (US$ Billion)': '976.46'}, {'Rank': '29', 'Bank Name': 'Norinchukin Bank', 'Total Assets (US$ Billion)': '961.37'}, {'Rank': '30', 'Bank Name': 'UBS', 'Total Assets (US$ Billion)': '958.49'}, {'Rank': '31', 'Bank Name': 'Industrial Bank (China)', 'Total Assets (US$ Billion)': '952.59'}, {'Rank': '32', 'Bank Name': 'UniCredit', 'Total Assets (US$ Billion)': '951.99'}, {'Rank': '33', 'Bank Name': 'Goldman Sachs', 'Total Assets (US$ Billion)': '931.80'}, {'Rank': '34', 'Bank Name': 'Shanghai Pudong Development Bank', 'Total Assets (US$ Billion)': '914.49'}, {'Rank': '35', 'Bank Name': 'Intesa Sanpaolo', 'Total Assets (US$ Billion)': '901.90'}, {'Rank': '36', 'Bank Name': 'Royal Bank of Scotland Group', 'Total Assets (US$ Billion)': '884.82'}, {'Rank': '37', 'Bank Name': 'China CITIC Bank', 'Total Assets (US$ Billion)': '882.08'}, {'Rank': '38', 'Bank Name': 'China Minsheng Bank', 'Total Assets (US$ Billion)': '871.66'}, {'Rank': '39', 'Bank Name': 'Morgan Stanley', 'Total Assets (US$ Billion)': '853.53'}, {'Rank': '40', 'Bank Name': 'Scotiabank', 'Total Assets (US$ Billion)': '785.44'}, {'Rank': '41', 'Bank Name': 'Credit Suisse', 'Total Assets (US$ Billion)': '781.45'}, {'Rank': '42', 'Bank Name': 'Banco Bilbao Vizcaya Argentaria', 'Total Assets (US$ Billion)': '774.78'}, {'Rank': '43', 'Bank Name': 'Commonwealth Bank', 'Total Assets (US$ Billion)': '691.03'}, {'Rank': '44', 'Bank Name': 'Standard Chartered', 'Total Assets (US$ Billion)': '688.76'}, {'Rank': '45', 'Bank Name': 'Australia and New Zealand Banking Group', 'Total Assets (US$ Billion)': '681.30'}, {'Rank': '46', 'Bank Name': 'Rabobank', 'Total Assets (US$ Billion)': '676.02'}, {'Rank': '47', 'Bank Name': 'Nordea', 'Total Assets (US$ Billion)': '638.02'}, {'Rank': '48', 'Bank Name': 'Westpac', 'Total Assets (US$ Billion)': '636.69'}, {'Rank': '49', 'Bank Name': 'China Everbright Bank', 'Total Assets (US$ Billion)': '633.54'}, {'Rank': '50', 'Bank Name': 'Bank of Montreal', 'Total Assets (US$ Billion)': '613.56'}, {'Rank': '51', 'Bank Name': 'DZ Bank', 'Total Assets (US$ Billion)': '593.89'}, {'Rank': '52', 'Bank Name': 'National Australia Bank', 'Total Assets (US$ Billion)': '583.79'}, {'Rank': '53', 'Bank Name': 'Danske Bank', 'Total Assets (US$ Billion)': '548.86'}, {'Rank': '54', 'Bank Name': 'State Bank of India', 'Total Assets (US$ Billion)': '538.35'}, {'Rank': '55', 'Bank Name': 'Resona Holdings', 'Total Assets (US$ Billion)': '537.39'}, {'Rank': '56', 'Bank Name': 'Commerzbank', 'Total Assets (US$ Billion)': '528.84'}, {'Rank': '57', 'Bank Name': 'Sumitomo Mitsui Trust Holdings', 'Total Assets (US$ Billion)': '520.16'}, {'Rank': '58', 'Bank Name': 'Ping An Bank', 'Total Assets (US$ Billion)': '497.05'}, {'Rank': '59', 'Bank Name': 'Canadian Imperial Bank of Commerce', 'Total Assets (US$ Billion)': '467.55'}, {'Rank': '60', 'Bank Name': 'U.S. Bancorp', 'Total Assets (US$ Billion)': '467.37'}, {'Rank': '61', 'Bank Name': 'CaixaBank', 'Total Assets (US$ Billion)': '442.66'}, {'Rank': '62', 'Bank Name': 'Truist Financial', 'Total Assets (US$ Billion)': '441.24'}, {'Rank': '63', 'Bank Name': 'ABN AMRO Group', 'Total Assets (US$ Billion)': '436.56'}, {'Rank': '64', 'Bank Name': 'KB Financial Group Inc', 'Total Assets (US$ Billion)': '430.80'}, {'Rank': '65', 'Bank Name': 'Shinhan Bank', 'Total Assets (US$ Billion)': '412.85'}, {'Rank': '66', 'Bank Name': 'Sberbank of Russia', 'Total Assets (US$ Billion)': '412.00'}, {'Rank': '67', 'Bank Name': 'Nomura Holdings', 'Total Assets (US$ Billion)': '411.18'}, {'Rank': '68', 'Bank Name': 'DBS Bank', 'Total Assets (US$ Billion)': '404.27'}, {'Rank': '69', 'Bank Name': 'Itaú Unibanco', 'Total Assets (US$ Billion)': '401.10'}, {'Rank': '70', 'Bank Name': 'PNC Financial Services', 'Total Assets (US$ Billion)': '382.32'}, {'Rank': '71', 'Bank Name': 'Huaxia Bank', 'Total Assets (US$ Billion)': '380.41'}, {'Rank': '72', 'Bank Name': 'Nonghyup Bank', 'Total Assets (US$ Billion)': '374.58'}, {'Rank': '73', 'Bank Name': 'Capital One', 'Total Assets (US$ Billion)': '372.54'}, {'Rank': '74', 'Bank Name': 'Bank of Beijing', 'Total Assets (US$ Billion)': '368.72'}, {'Rank': '75', 'Bank Name': 'The Bank of New York Mellon', 'Total Assets (US$ Billion)': '362.87'}, {'Rank': '76', 'Bank Name': 'Banco do Brasil', 'Total Assets (US$ Billion)': '360.73'}, {'Rank': '77', 'Bank Name': 'Hana Financial Group', 'Total Assets (US$ Billion)': '345.84'}, {'Rank': '78', 'Bank Name': 'OCBC Bank', 'Total Assets (US$ Billion)': '343.19'}, {'Rank': '79', 'Bank Name': 'Banco Bradesco', 'Total Assets (US$ Billion)': '337.24'}, {'Rank': '80', 'Bank Name': 'Handelsbanken', 'Total Assets (US$ Billion)': '335.12'}, {'Rank': '81', 'Bank Name': 'Caixa Econômica Federal', 'Total Assets (US$ Billion)': '326.52'}, {'Rank': '82', 'Bank Name': 'KBC Bank', 'Total Assets (US$ Billion)': '324.95'}, {'Rank': '83', 'Bank Name': 'China Guangfa Bank', 'Total Assets (US$ Billion)': '318.58'}, {'Rank': '84', 'Bank Name': 'Nationwide Building Society', 'Total Assets (US$ Billion)': '306.01'}, {'Rank': '85', 'Bank Name': 'Woori Bank', 'Total Assets (US$ Billion)': '305.81'}, {'Rank': '86', 'Bank Name': 'DNB ASA', 'Total Assets (US$ Billion)': '304.03'}, {'Rank': '87', 'Bank Name': 'SEB Group', 'Total Assets (US$ Billion)': '288.91'}, {'Rank': '88', 'Bank Name': 'Bank of Shanghai', 'Total Assets (US$ Billion)': '285.10'}, {'Rank': '89', 'Bank Name': 'United Overseas Bank', 'Total Assets (US$ Billion)': '284.87'}, {'Rank': '90', 'Bank Name': 'Bank of Jiangsu (page does not exist)', 'Total Assets (US$ Billion)': '282.34'}, {'Rank': '91', 'Bank Name': 'La Banque postale', 'Total Assets (US$ Billion)': '280.74'}, {'Rank': '92', 'Bank Name': 'Landesbank Baden-Württemberg', 'Total Assets (US$ Billion)': '276.16'}, {'Rank': '93', 'Bank Name': 'Erste Group', 'Total Assets (US$ Billion)': '271.85'}, {'Rank': '94', 'Bank Name': 'Industrial Bank of Korea', 'Total Assets (US$ Billion)': '260.06'}, {'Rank': '95', 'Bank Name': 'Qatar National Bank', 'Total Assets (US$ Billion)': '257.15'}, {'Rank': '96', 'Bank Name': 'Banco Sabadell', 'Total Assets (US$ Billion)': '254.55'}, {'Rank': '97', 'Bank Name': 'Swedbank', 'Total Assets (US$ Billion)': '254.74'}, {'Rank': '98', 'Bank Name': 'BayernLB', 'Total Assets (US$ Billion)': '252.15'}, {'Rank': '99', 'Bank Name': 'State Street Corporation', 'Total Assets (US$ Billion)': '244.60'}, {'Rank': '100', 'Bank Name': 'China Zheshang Bank', 'Total Assets (US$ Billion)': '239.43'}, {'Rank': '101', 'Bank Name': 'Bankia', 'Total Assets (US$ Billion)': '237.77'}]\n"
     ]
    }
   ],
   "source": [
    "with open(c_path + \"bank_data.json\") as json_file:\n",
    "    data = json.load(json_file)\n",
    "    print(data)  # Print the loaded JSON data\n"
   ]
  },
  {
   "cell_type": "code",
   "execution_count": 117,
   "id": "bddb6259",
   "metadata": {},
   "outputs": [],
   "source": [
    "# Function to extract json file\n",
    "def extract_data_from_json(load_file):\n",
    "    # create data frame from json file\n",
    "    dataframe = pd.read_json(load_file, lines=False)\n",
    "    return dataframe"
   ]
  },
  {
   "cell_type": "code",
   "execution_count": 118,
   "id": "1e880a1f",
   "metadata": {},
   "outputs": [],
   "source": [
    "# location of json file\n",
    "json_file = c_path + \"bank_data.json\"\n",
    "dataframe = extract_data_from_json(json_file)"
   ]
  },
  {
   "cell_type": "code",
   "execution_count": 119,
   "id": "81c45d9d",
   "metadata": {},
   "outputs": [],
   "source": [
    "def get_CSV_file(data_frame):\n",
    "    csv_filename = c_path + 'bank_data.csv'\n",
    "    data_frame.to_csv(csv_filename, index=False)\n",
    "    return None"
   ]
  },
  {
   "cell_type": "code",
   "execution_count": 120,
   "id": "197e12da",
   "metadata": {},
   "outputs": [],
   "source": [
    "def log(message):\n",
    "    timestamp_format = '%H:%M:%S-%h-%d-%Y' #Hour-Minute-Second-MonthName-Day-Year\n",
    "    now = datetime.now() # get current timestamp\n",
    "    timestamp = now.strftime(timestamp_format)\n",
    "    with open(\"logfile.txt\",\"a\") as f:\n",
    "        f.write(timestamp + ',' + message + '\\n')"
   ]
  },
  {
   "cell_type": "code",
   "execution_count": 121,
   "id": "ab0cfa21",
   "metadata": {},
   "outputs": [],
   "source": [
    "#Call function extract data from json file\n",
    "log(\"Extract data from json file\")\n",
    "json_file = c_path + \"bank_data.json\"\n",
    "extracted_data = extract_data_from_json(json_file)\n",
    "log(\"Extract data Ended\")\n",
    "# Log that you have started the Load step\n",
    "log(\"Load phase Started\")\n",
    "# Call the Load function\n",
    "get_CSV_file(extracted_data)\n",
    "# Log that you have completed the Load step\n",
    "log(\"Load phase Ended\")"
   ]
  }
 ],
 "metadata": {
  "kernelspec": {
   "display_name": "Python 3 (ipykernel)",
   "language": "python",
   "name": "python3"
  },
  "language_info": {
   "codemirror_mode": {
    "name": "ipython",
    "version": 3
   },
   "file_extension": ".py",
   "mimetype": "text/x-python",
   "name": "python",
   "nbconvert_exporter": "python",
   "pygments_lexer": "ipython3",
   "version": "3.11.1"
  }
 },
 "nbformat": 4,
 "nbformat_minor": 5
}
