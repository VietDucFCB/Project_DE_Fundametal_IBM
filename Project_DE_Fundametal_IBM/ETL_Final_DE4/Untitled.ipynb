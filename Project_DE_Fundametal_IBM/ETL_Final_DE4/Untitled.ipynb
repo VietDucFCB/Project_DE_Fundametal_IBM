{
 "cells": [
  {
   "cell_type": "code",
   "execution_count": 87,
   "id": "9c019b1e",
   "metadata": {},
   "outputs": [],
   "source": [
    "import pandas as pd\n",
    "import glob\n",
    "from datetime import datetime"
   ]
  },
  {
   "cell_type": "code",
   "execution_count": 88,
   "id": "03838327",
   "metadata": {},
   "outputs": [],
   "source": [
    "c_path = \"C:\\\\Users\\\\ASUS\\\\OneDrive\\\\Máy tính\\\\KHTN_HK2\\\\ETL_Final_DE4\\\\\""
   ]
  },
  {
   "cell_type": "code",
   "execution_count": 89,
   "id": "dc5e0c18",
   "metadata": {},
   "outputs": [],
   "source": [
    "def extract_file_json(load_data):\n",
    "    data_frame = pd.read_json(load_data, lines = False)\n",
    "    return data_frame"
   ]
  },
  {
   "cell_type": "code",
   "execution_count": 90,
   "id": "c1efb4fe",
   "metadata": {},
   "outputs": [],
   "source": [
    "def extract():\n",
    "    extracted_data_list = []  # Danh sách các DataFrame tạm thời\n",
    "    json_path = c_path + \"datasource\"\n",
    "    for json_file in glob.glob(json_path + \"/*.json\"):\n",
    "        extracted_data = extract_file_json(json_file)\n",
    "        extracted_data_list.append(extracted_data)\n",
    "    extract_data = pd.concat(extracted_data_list, ignore_index=True)  # Kết hợp các DataFrame tạm thời\n",
    "    return extract_data"
   ]
  },
  {
   "cell_type": "code",
   "execution_count": 91,
   "id": "fd664d82",
   "metadata": {},
   "outputs": [],
   "source": [
    "path_file_csv = c_path + \"datasource\\\\exchange_rates.csv\"\n",
    "file_csv = pd.read_csv(path_file_csv)\n"
   ]
  },
  {
   "cell_type": "code",
   "execution_count": 92,
   "id": "90d29526",
   "metadata": {},
   "outputs": [
    {
     "data": {
      "text/html": [
       "<div>\n",
       "<style scoped>\n",
       "    .dataframe tbody tr th:only-of-type {\n",
       "        vertical-align: middle;\n",
       "    }\n",
       "\n",
       "    .dataframe tbody tr th {\n",
       "        vertical-align: top;\n",
       "    }\n",
       "\n",
       "    .dataframe thead th {\n",
       "        text-align: right;\n",
       "    }\n",
       "</style>\n",
       "<table border=\"1\" class=\"dataframe\">\n",
       "  <thead>\n",
       "    <tr style=\"text-align: right;\">\n",
       "      <th></th>\n",
       "      <th>Unnamed: 0</th>\n",
       "      <th>Rates</th>\n",
       "    </tr>\n",
       "  </thead>\n",
       "  <tbody>\n",
       "    <tr>\n",
       "      <th>0</th>\n",
       "      <td>AUD</td>\n",
       "      <td>1.297088</td>\n",
       "    </tr>\n",
       "    <tr>\n",
       "      <th>1</th>\n",
       "      <td>BGN</td>\n",
       "      <td>1.608653</td>\n",
       "    </tr>\n",
       "    <tr>\n",
       "      <th>2</th>\n",
       "      <td>BRL</td>\n",
       "      <td>5.409196</td>\n",
       "    </tr>\n",
       "    <tr>\n",
       "      <th>3</th>\n",
       "      <td>CAD</td>\n",
       "      <td>1.271426</td>\n",
       "    </tr>\n",
       "    <tr>\n",
       "      <th>4</th>\n",
       "      <td>CHF</td>\n",
       "      <td>0.886083</td>\n",
       "    </tr>\n",
       "  </tbody>\n",
       "</table>\n",
       "</div>"
      ],
      "text/plain": [
       "  Unnamed: 0     Rates\n",
       "0        AUD  1.297088\n",
       "1        BGN  1.608653\n",
       "2        BRL  5.409196\n",
       "3        CAD  1.271426\n",
       "4        CHF  0.886083"
      ]
     },
     "execution_count": 92,
     "metadata": {},
     "output_type": "execute_result"
    }
   ],
   "source": [
    "df = pd.DataFrame(file_csv)\n",
    "df.head()"
   ]
  },
  {
   "cell_type": "code",
   "execution_count": 93,
   "id": "23497671",
   "metadata": {},
   "outputs": [
    {
     "data": {
      "text/html": [
       "<div>\n",
       "<style scoped>\n",
       "    .dataframe tbody tr th:only-of-type {\n",
       "        vertical-align: middle;\n",
       "    }\n",
       "\n",
       "    .dataframe tbody tr th {\n",
       "        vertical-align: top;\n",
       "    }\n",
       "\n",
       "    .dataframe thead th {\n",
       "        text-align: right;\n",
       "    }\n",
       "</style>\n",
       "<table border=\"1\" class=\"dataframe\">\n",
       "  <thead>\n",
       "    <tr style=\"text-align: right;\">\n",
       "      <th></th>\n",
       "      <th>index_column</th>\n",
       "      <th>Rates</th>\n",
       "    </tr>\n",
       "  </thead>\n",
       "  <tbody>\n",
       "    <tr>\n",
       "      <th>0</th>\n",
       "      <td>AUD</td>\n",
       "      <td>1.297088</td>\n",
       "    </tr>\n",
       "    <tr>\n",
       "      <th>1</th>\n",
       "      <td>BGN</td>\n",
       "      <td>1.608653</td>\n",
       "    </tr>\n",
       "    <tr>\n",
       "      <th>2</th>\n",
       "      <td>BRL</td>\n",
       "      <td>5.409196</td>\n",
       "    </tr>\n",
       "    <tr>\n",
       "      <th>3</th>\n",
       "      <td>CAD</td>\n",
       "      <td>1.271426</td>\n",
       "    </tr>\n",
       "    <tr>\n",
       "      <th>4</th>\n",
       "      <td>CHF</td>\n",
       "      <td>0.886083</td>\n",
       "    </tr>\n",
       "  </tbody>\n",
       "</table>\n",
       "</div>"
      ],
      "text/plain": [
       "  index_column     Rates\n",
       "0          AUD  1.297088\n",
       "1          BGN  1.608653\n",
       "2          BRL  5.409196\n",
       "3          CAD  1.271426\n",
       "4          CHF  0.886083"
      ]
     },
     "execution_count": 93,
     "metadata": {},
     "output_type": "execute_result"
    }
   ],
   "source": [
    "df.rename(columns={'Unnamed: 0':'index_column'}, inplace = True)\n",
    "df.head()"
   ]
  },
  {
   "cell_type": "code",
   "execution_count": 94,
   "id": "e667fbf4",
   "metadata": {},
   "outputs": [
    {
     "name": "stdout",
     "output_type": "stream",
     "text": [
      "0.7323984208000001\n"
     ]
    }
   ],
   "source": [
    "exchange_rate_GBP = df.loc[df['index_column'] == 'GBP', 'Rates'].values[0]\n",
    "print(exchange_rate_GBP)"
   ]
  },
  {
   "cell_type": "code",
   "execution_count": 95,
   "id": "6cbcdd52",
   "metadata": {},
   "outputs": [],
   "source": [
    "'''\n",
    "Changes the Market Cap (US$ Billion) column from USD to GBP\n",
    "Rounds the Market Cap (US$ Billion)` column to 3 decimal places\n",
    "Rename Market Cap (US$ Billion) to Market Cap (GBP$ Billion)\n",
    "'''\n",
    "def transform(data):\n",
    "    data['Market Cap (US$ Billion)'] = data['Market Cap (US$ Billion)']*exchange_rate_GBP\n",
    "    data['Market Cap (US$ Billion)'] = round(data['Market Cap (US$ Billion)'], 3)\n",
    "    data.rename(columns = {'Market Cap (US$ Billion)':'Market Cap (GPD$ Billion)'}, inplace = True)\n",
    "    return data"
   ]
  },
  {
   "cell_type": "code",
   "execution_count": 96,
   "id": "54471f47",
   "metadata": {},
   "outputs": [
    {
     "data": {
      "text/html": [
       "<div>\n",
       "<style scoped>\n",
       "    .dataframe tbody tr th:only-of-type {\n",
       "        vertical-align: middle;\n",
       "    }\n",
       "\n",
       "    .dataframe tbody tr th {\n",
       "        vertical-align: top;\n",
       "    }\n",
       "\n",
       "    .dataframe thead th {\n",
       "        text-align: right;\n",
       "    }\n",
       "</style>\n",
       "<table border=\"1\" class=\"dataframe\">\n",
       "  <thead>\n",
       "    <tr style=\"text-align: right;\">\n",
       "      <th></th>\n",
       "      <th>Name</th>\n",
       "      <th>Market Cap (US$ Billion)</th>\n",
       "    </tr>\n",
       "  </thead>\n",
       "  <tbody>\n",
       "    <tr>\n",
       "      <th>0</th>\n",
       "      <td>JPMorgan Chase</td>\n",
       "      <td>390.934</td>\n",
       "    </tr>\n",
       "    <tr>\n",
       "      <th>1</th>\n",
       "      <td>Industrial and Commercial Bank of China</td>\n",
       "      <td>345.214</td>\n",
       "    </tr>\n",
       "    <tr>\n",
       "      <th>2</th>\n",
       "      <td>Bank of America</td>\n",
       "      <td>325.331</td>\n",
       "    </tr>\n",
       "    <tr>\n",
       "      <th>3</th>\n",
       "      <td>Wells Fargo</td>\n",
       "      <td>308.013</td>\n",
       "    </tr>\n",
       "    <tr>\n",
       "      <th>4</th>\n",
       "      <td>China Construction Bank</td>\n",
       "      <td>257.399</td>\n",
       "    </tr>\n",
       "  </tbody>\n",
       "</table>\n",
       "</div>"
      ],
      "text/plain": [
       "                                      Name  Market Cap (US$ Billion)\n",
       "0                           JPMorgan Chase                   390.934\n",
       "1  Industrial and Commercial Bank of China                   345.214\n",
       "2                          Bank of America                   325.331\n",
       "3                              Wells Fargo                   308.013\n",
       "4                  China Construction Bank                   257.399"
      ]
     },
     "execution_count": 96,
     "metadata": {},
     "output_type": "execute_result"
    }
   ],
   "source": [
    "extracted_data = extract()\n",
    "extracted_data.head()"
   ]
  },
  {
   "cell_type": "code",
   "execution_count": 97,
   "id": "5a057dd9",
   "metadata": {},
   "outputs": [
    {
     "data": {
      "text/html": [
       "<div>\n",
       "<style scoped>\n",
       "    .dataframe tbody tr th:only-of-type {\n",
       "        vertical-align: middle;\n",
       "    }\n",
       "\n",
       "    .dataframe tbody tr th {\n",
       "        vertical-align: top;\n",
       "    }\n",
       "\n",
       "    .dataframe thead th {\n",
       "        text-align: right;\n",
       "    }\n",
       "</style>\n",
       "<table border=\"1\" class=\"dataframe\">\n",
       "  <thead>\n",
       "    <tr style=\"text-align: right;\">\n",
       "      <th></th>\n",
       "      <th>Name</th>\n",
       "      <th>Market Cap (GPD$ Billion)</th>\n",
       "    </tr>\n",
       "  </thead>\n",
       "  <tbody>\n",
       "    <tr>\n",
       "      <th>0</th>\n",
       "      <td>JPMorgan Chase</td>\n",
       "      <td>286.319</td>\n",
       "    </tr>\n",
       "    <tr>\n",
       "      <th>1</th>\n",
       "      <td>Industrial and Commercial Bank of China</td>\n",
       "      <td>252.834</td>\n",
       "    </tr>\n",
       "    <tr>\n",
       "      <th>2</th>\n",
       "      <td>Bank of America</td>\n",
       "      <td>238.272</td>\n",
       "    </tr>\n",
       "    <tr>\n",
       "      <th>3</th>\n",
       "      <td>Wells Fargo</td>\n",
       "      <td>225.588</td>\n",
       "    </tr>\n",
       "    <tr>\n",
       "      <th>4</th>\n",
       "      <td>China Construction Bank</td>\n",
       "      <td>188.519</td>\n",
       "    </tr>\n",
       "  </tbody>\n",
       "</table>\n",
       "</div>"
      ],
      "text/plain": [
       "                                      Name  Market Cap (GPD$ Billion)\n",
       "0                           JPMorgan Chase                    286.319\n",
       "1  Industrial and Commercial Bank of China                    252.834\n",
       "2                          Bank of America                    238.272\n",
       "3                              Wells Fargo                    225.588\n",
       "4                  China Construction Bank                    188.519"
      ]
     },
     "execution_count": 97,
     "metadata": {},
     "output_type": "execute_result"
    }
   ],
   "source": [
    "trans = transform(extracted_data)\n",
    "trans.head()"
   ]
  },
  {
   "cell_type": "code",
   "execution_count": 98,
   "id": "589001d0",
   "metadata": {},
   "outputs": [],
   "source": [
    "def load(load_data):\n",
    "    csv_path = c_path + \"bank_market_cap_gbp.csv\"\n",
    "    load_data.to_csv(csv_path, index = False)\n",
    "    return None"
   ]
  },
  {
   "cell_type": "code",
   "execution_count": 99,
   "id": "46d8bd5f",
   "metadata": {},
   "outputs": [],
   "source": [
    "def log(message):\n",
    "    time_format = '%H:%M:%S-%h-%d-%Y'\n",
    "    now = datetime.now() # get current timestamp\n",
    "    timestamp = now.strftime(time_format)\n",
    "    with open(\"API_logfile.txt\",\"a\") as f:\n",
    "        f.write(timestamp + ',' + message + '\\n')"
   ]
  },
  {
   "cell_type": "code",
   "execution_count": 101,
   "id": "d6571d6c",
   "metadata": {},
   "outputs": [],
   "source": [
    "log(\"Extract json file\")\n",
    "extracted_data = extract()\n",
    "log(\"Extracted json file\")\n",
    "\n",
    "log(\"Transform data\")\n",
    "trans = transform(extracted_data)\n",
    "log(\"Transformed data\")\n",
    "\n",
    "log(\"Load data\")\n",
    "load(trans)\n",
    "log(\"Loaded data\")"
   ]
  },
  {
   "cell_type": "code",
   "execution_count": null,
   "id": "f9aeb780",
   "metadata": {},
   "outputs": [],
   "source": []
  }
 ],
 "metadata": {
  "kernelspec": {
   "display_name": "Python 3 (ipykernel)",
   "language": "python",
   "name": "python3"
  },
  "language_info": {
   "codemirror_mode": {
    "name": "ipython",
    "version": 3
   },
   "file_extension": ".py",
   "mimetype": "text/x-python",
   "name": "python",
   "nbconvert_exporter": "python",
   "pygments_lexer": "ipython3",
   "version": "3.11.1"
  }
 },
 "nbformat": 4,
 "nbformat_minor": 5
}
