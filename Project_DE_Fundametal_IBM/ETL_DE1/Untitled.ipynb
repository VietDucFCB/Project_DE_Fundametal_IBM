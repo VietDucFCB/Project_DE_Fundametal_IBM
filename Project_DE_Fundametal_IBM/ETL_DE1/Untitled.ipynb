{
 "cells": [
  {
   "cell_type": "code",
   "execution_count": 15,
   "id": "ecb83bbd",
   "metadata": {},
   "outputs": [],
   "source": [
    "import glob                         # this module helps in selecting files \n",
    "import pandas as pd                 # this module helps in processing CSV files\n",
    "import xml.etree.ElementTree as ET  # this module helps in processing XML files.\n",
    "from datetime import datetime"
   ]
  },
  {
   "cell_type": "code",
   "execution_count": 27,
   "id": "c0d17cfe",
   "metadata": {},
   "outputs": [],
   "source": [
    "## Set path common all file"
   ]
  },
  {
   "cell_type": "code",
   "execution_count": 17,
   "id": "c309a278",
   "metadata": {},
   "outputs": [],
   "source": [
    "# Location for all file in project\n",
    "c_path = \"C:\\\\Users\\\\ASUS\\\\OneDrive\\\\Máy tính\\\\KHTN_HK2\\\\ETL_DE1\\\\\"\n",
    "tmpfile    = c_path + \"temp.tmp\"               # file used to store all extracted data\n",
    "logfile    = c_path + \"logfile.txt\"            # all event logs will be stored in this file\n",
    "targetfile = c_path + \"transformed_data.csv\"   # file where transformed data is stored"
   ]
  },
  {
   "cell_type": "code",
   "execution_count": 19,
   "id": "8e3f9deb",
   "metadata": {},
   "outputs": [],
   "source": [
    "# extract file csv \n",
    "def extract_data_from_csv(load_file):\n",
    "    dataframe = pd.read_csv(load_file)\n",
    "    return dataframe"
   ]
  },
  {
   "cell_type": "code",
   "execution_count": 20,
   "id": "61fc1f83",
   "metadata": {},
   "outputs": [],
   "source": [
    "# extract file json\n",
    "def extract_data_from_json(load_file):\n",
    "    dataframe = pd.read_json(load_file, lines=True)\n",
    "    return dataframe"
   ]
  },
  {
   "cell_type": "code",
   "execution_count": 21,
   "id": "c606e8e2",
   "metadata": {},
   "outputs": [],
   "source": [
    "# extract file xml\n",
    "def extract_data_from_xml(load_file):\n",
    "    dataframe = pd.DataFrame(columns=['car_model', 'years_of_manufacture', 'price', 'fuel'])\n",
    "    tree = ET.parse(load_file)\n",
    "    root = tree.getroot()\n",
    "    for dealership in root:\n",
    "        car_model = dealership.find(\"car_model\").text\n",
    "        years_of_manufacture = int(dealership.find(\"year_of_manufacture\").text)\n",
    "        price = float(dealership.find(\"price\").text)\n",
    "        fuel = dealership.find(\"fuel\").text\n",
    "        dataframe = dataframe.append({\"car_model\": car_model, \"years_of_manufacture\": years_of_manufacture, \"price\": price, \"fuel\": fuel}, ignore_index=True)\n",
    "    return dataframe\n"
   ]
  },
  {
   "cell_type": "code",
   "execution_count": 22,
   "id": "f4f7a7f3",
   "metadata": {},
   "outputs": [],
   "source": [
    "# function to extract all file in project\n",
    "def extract():\n",
    "    # create an empty data frame to hold extracted data\n",
    "    extracted_data = pd.DataFrame(columns=['car_model','year_of_manufacture','price', 'fuel'])\n",
    "    \n",
    "    # path of file data source\n",
    "    dealership_data = c_path +\"datasource\"\n",
    "    \n",
    "    #process all csv file\n",
    "    # browse all file csv in data source with module glob\n",
    "    for csvfile in glob.glob(dealership_data +\"/*.csv\"):\n",
    "        extracted_data = extracted_data.append(extract_data_from_csv(csvfile), ignore_index=True)\n",
    "        \n",
    "    #process all json files\n",
    "    # browse all file json in data source with module glob\n",
    "    for jsonfile in glob.glob(dealership_data +\"/*.json\"):\n",
    "        extracted_data = extracted_data.append(extract_data_from_json(jsonfile), ignore_index=True)\n",
    "    \n",
    "    #process all xml files\n",
    "    # browse all file xml in data source with module glob\n",
    "    for xmlfile in glob.glob(dealership_data +\"/*.xml\"):\n",
    "        extracted_data = extracted_data.append(extract_data_from_xml(xmlfile), ignore_index=True)\n",
    "        \n",
    "    return extracted_data"
   ]
  },
  {
   "cell_type": "code",
   "execution_count": 23,
   "id": "6b5d0ce1",
   "metadata": {},
   "outputs": [],
   "source": [
    "# function to transform data on requests\n",
    "def transform_data(data):\n",
    "    data['price']=round(data.price, 2)\n",
    "    return data"
   ]
  },
  {
   "cell_type": "code",
   "execution_count": 24,
   "id": "8fe5fc83",
   "metadata": {},
   "outputs": [],
   "source": [
    "# function convert to target file kind csv\n",
    "def load(targetfile,data_to_load):\n",
    "    data_to_load.to_csv(targetfile)\n"
   ]
  },
  {
   "cell_type": "code",
   "execution_count": 25,
   "id": "e44a3123",
   "metadata": {},
   "outputs": [],
   "source": [
    "# function to message all manipulate with project\n",
    "def log(message):\n",
    "    # format for time\n",
    "    timestamp_format = '%H:%M:%S-%h-%d-%Y' #Hour-Minute-Second-MonthName-Day-Year\n",
    "    now = datetime.now() # get current timestamp\n",
    "    timestamp = now.strftime(timestamp_format)\n",
    "    with open(\"dealership_logfile.txt\",\"a\") as f:\n",
    "        f.write(timestamp + ',' + message + '\\n')"
   ]
  },
  {
   "cell_type": "code",
   "execution_count": 26,
   "id": "0c6bec12",
   "metadata": {},
   "outputs": [
    {
     "name": "stderr",
     "output_type": "stream",
     "text": [
      "C:\\Users\\ASUS\\AppData\\Local\\Temp\\ipykernel_14884\\4182071793.py:7: FutureWarning: The frame.append method is deprecated and will be removed from pandas in a future version. Use pandas.concat instead.\n",
      "  extracted_data = extracted_data.append(extract_data_from_csv(csvfile), ignore_index=True)\n",
      "C:\\Users\\ASUS\\AppData\\Local\\Temp\\ipykernel_14884\\4182071793.py:7: FutureWarning: The frame.append method is deprecated and will be removed from pandas in a future version. Use pandas.concat instead.\n",
      "  extracted_data = extracted_data.append(extract_data_from_csv(csvfile), ignore_index=True)\n",
      "C:\\Users\\ASUS\\AppData\\Local\\Temp\\ipykernel_14884\\4182071793.py:7: FutureWarning: The frame.append method is deprecated and will be removed from pandas in a future version. Use pandas.concat instead.\n",
      "  extracted_data = extracted_data.append(extract_data_from_csv(csvfile), ignore_index=True)\n",
      "C:\\Users\\ASUS\\AppData\\Local\\Temp\\ipykernel_14884\\4182071793.py:11: FutureWarning: The frame.append method is deprecated and will be removed from pandas in a future version. Use pandas.concat instead.\n",
      "  extracted_data = extracted_data.append(extract_data_from_json(jsonfile), ignore_index=True)\n",
      "C:\\Users\\ASUS\\AppData\\Local\\Temp\\ipykernel_14884\\4182071793.py:11: FutureWarning: The frame.append method is deprecated and will be removed from pandas in a future version. Use pandas.concat instead.\n",
      "  extracted_data = extracted_data.append(extract_data_from_json(jsonfile), ignore_index=True)\n",
      "C:\\Users\\ASUS\\AppData\\Local\\Temp\\ipykernel_14884\\4182071793.py:11: FutureWarning: The frame.append method is deprecated and will be removed from pandas in a future version. Use pandas.concat instead.\n",
      "  extracted_data = extracted_data.append(extract_data_from_json(jsonfile), ignore_index=True)\n",
      "C:\\Users\\ASUS\\AppData\\Local\\Temp\\ipykernel_14884\\4271592819.py:10: FutureWarning: The frame.append method is deprecated and will be removed from pandas in a future version. Use pandas.concat instead.\n",
      "  dataframe = dataframe.append({\"car_model\": car_model, \"years_of_manufacture\": years_of_manufacture, \"price\": price, \"fuel\": fuel}, ignore_index=True)\n",
      "C:\\Users\\ASUS\\AppData\\Local\\Temp\\ipykernel_14884\\4271592819.py:10: FutureWarning: The frame.append method is deprecated and will be removed from pandas in a future version. Use pandas.concat instead.\n",
      "  dataframe = dataframe.append({\"car_model\": car_model, \"years_of_manufacture\": years_of_manufacture, \"price\": price, \"fuel\": fuel}, ignore_index=True)\n",
      "C:\\Users\\ASUS\\AppData\\Local\\Temp\\ipykernel_14884\\4271592819.py:10: FutureWarning: The frame.append method is deprecated and will be removed from pandas in a future version. Use pandas.concat instead.\n",
      "  dataframe = dataframe.append({\"car_model\": car_model, \"years_of_manufacture\": years_of_manufacture, \"price\": price, \"fuel\": fuel}, ignore_index=True)\n",
      "C:\\Users\\ASUS\\AppData\\Local\\Temp\\ipykernel_14884\\4271592819.py:10: FutureWarning: The frame.append method is deprecated and will be removed from pandas in a future version. Use pandas.concat instead.\n",
      "  dataframe = dataframe.append({\"car_model\": car_model, \"years_of_manufacture\": years_of_manufacture, \"price\": price, \"fuel\": fuel}, ignore_index=True)\n",
      "C:\\Users\\ASUS\\AppData\\Local\\Temp\\ipykernel_14884\\4271592819.py:10: FutureWarning: The frame.append method is deprecated and will be removed from pandas in a future version. Use pandas.concat instead.\n",
      "  dataframe = dataframe.append({\"car_model\": car_model, \"years_of_manufacture\": years_of_manufacture, \"price\": price, \"fuel\": fuel}, ignore_index=True)\n",
      "C:\\Users\\ASUS\\AppData\\Local\\Temp\\ipykernel_14884\\4271592819.py:10: FutureWarning: The frame.append method is deprecated and will be removed from pandas in a future version. Use pandas.concat instead.\n",
      "  dataframe = dataframe.append({\"car_model\": car_model, \"years_of_manufacture\": years_of_manufacture, \"price\": price, \"fuel\": fuel}, ignore_index=True)\n",
      "C:\\Users\\ASUS\\AppData\\Local\\Temp\\ipykernel_14884\\4271592819.py:10: FutureWarning: The frame.append method is deprecated and will be removed from pandas in a future version. Use pandas.concat instead.\n",
      "  dataframe = dataframe.append({\"car_model\": car_model, \"years_of_manufacture\": years_of_manufacture, \"price\": price, \"fuel\": fuel}, ignore_index=True)\n",
      "C:\\Users\\ASUS\\AppData\\Local\\Temp\\ipykernel_14884\\4271592819.py:10: FutureWarning: The frame.append method is deprecated and will be removed from pandas in a future version. Use pandas.concat instead.\n",
      "  dataframe = dataframe.append({\"car_model\": car_model, \"years_of_manufacture\": years_of_manufacture, \"price\": price, \"fuel\": fuel}, ignore_index=True)\n",
      "C:\\Users\\ASUS\\AppData\\Local\\Temp\\ipykernel_14884\\4271592819.py:10: FutureWarning: The frame.append method is deprecated and will be removed from pandas in a future version. Use pandas.concat instead.\n",
      "  dataframe = dataframe.append({\"car_model\": car_model, \"years_of_manufacture\": years_of_manufacture, \"price\": price, \"fuel\": fuel}, ignore_index=True)\n",
      "C:\\Users\\ASUS\\AppData\\Local\\Temp\\ipykernel_14884\\4271592819.py:10: FutureWarning: The frame.append method is deprecated and will be removed from pandas in a future version. Use pandas.concat instead.\n",
      "  dataframe = dataframe.append({\"car_model\": car_model, \"years_of_manufacture\": years_of_manufacture, \"price\": price, \"fuel\": fuel}, ignore_index=True)\n",
      "C:\\Users\\ASUS\\AppData\\Local\\Temp\\ipykernel_14884\\4182071793.py:15: FutureWarning: The frame.append method is deprecated and will be removed from pandas in a future version. Use pandas.concat instead.\n",
      "  extracted_data = extracted_data.append(extract_data_from_xml(xmlfile), ignore_index=True)\n",
      "C:\\Users\\ASUS\\AppData\\Local\\Temp\\ipykernel_14884\\4271592819.py:10: FutureWarning: The frame.append method is deprecated and will be removed from pandas in a future version. Use pandas.concat instead.\n",
      "  dataframe = dataframe.append({\"car_model\": car_model, \"years_of_manufacture\": years_of_manufacture, \"price\": price, \"fuel\": fuel}, ignore_index=True)\n",
      "C:\\Users\\ASUS\\AppData\\Local\\Temp\\ipykernel_14884\\4271592819.py:10: FutureWarning: The frame.append method is deprecated and will be removed from pandas in a future version. Use pandas.concat instead.\n",
      "  dataframe = dataframe.append({\"car_model\": car_model, \"years_of_manufacture\": years_of_manufacture, \"price\": price, \"fuel\": fuel}, ignore_index=True)\n",
      "C:\\Users\\ASUS\\AppData\\Local\\Temp\\ipykernel_14884\\4271592819.py:10: FutureWarning: The frame.append method is deprecated and will be removed from pandas in a future version. Use pandas.concat instead.\n",
      "  dataframe = dataframe.append({\"car_model\": car_model, \"years_of_manufacture\": years_of_manufacture, \"price\": price, \"fuel\": fuel}, ignore_index=True)\n",
      "C:\\Users\\ASUS\\AppData\\Local\\Temp\\ipykernel_14884\\4271592819.py:10: FutureWarning: The frame.append method is deprecated and will be removed from pandas in a future version. Use pandas.concat instead.\n",
      "  dataframe = dataframe.append({\"car_model\": car_model, \"years_of_manufacture\": years_of_manufacture, \"price\": price, \"fuel\": fuel}, ignore_index=True)\n",
      "C:\\Users\\ASUS\\AppData\\Local\\Temp\\ipykernel_14884\\4271592819.py:10: FutureWarning: The frame.append method is deprecated and will be removed from pandas in a future version. Use pandas.concat instead.\n",
      "  dataframe = dataframe.append({\"car_model\": car_model, \"years_of_manufacture\": years_of_manufacture, \"price\": price, \"fuel\": fuel}, ignore_index=True)\n",
      "C:\\Users\\ASUS\\AppData\\Local\\Temp\\ipykernel_14884\\4271592819.py:10: FutureWarning: The frame.append method is deprecated and will be removed from pandas in a future version. Use pandas.concat instead.\n",
      "  dataframe = dataframe.append({\"car_model\": car_model, \"years_of_manufacture\": years_of_manufacture, \"price\": price, \"fuel\": fuel}, ignore_index=True)\n",
      "C:\\Users\\ASUS\\AppData\\Local\\Temp\\ipykernel_14884\\4271592819.py:10: FutureWarning: The frame.append method is deprecated and will be removed from pandas in a future version. Use pandas.concat instead.\n",
      "  dataframe = dataframe.append({\"car_model\": car_model, \"years_of_manufacture\": years_of_manufacture, \"price\": price, \"fuel\": fuel}, ignore_index=True)\n",
      "C:\\Users\\ASUS\\AppData\\Local\\Temp\\ipykernel_14884\\4271592819.py:10: FutureWarning: The frame.append method is deprecated and will be removed from pandas in a future version. Use pandas.concat instead.\n",
      "  dataframe = dataframe.append({\"car_model\": car_model, \"years_of_manufacture\": years_of_manufacture, \"price\": price, \"fuel\": fuel}, ignore_index=True)\n",
      "C:\\Users\\ASUS\\AppData\\Local\\Temp\\ipykernel_14884\\4271592819.py:10: FutureWarning: The frame.append method is deprecated and will be removed from pandas in a future version. Use pandas.concat instead.\n",
      "  dataframe = dataframe.append({\"car_model\": car_model, \"years_of_manufacture\": years_of_manufacture, \"price\": price, \"fuel\": fuel}, ignore_index=True)\n",
      "C:\\Users\\ASUS\\AppData\\Local\\Temp\\ipykernel_14884\\4271592819.py:10: FutureWarning: The frame.append method is deprecated and will be removed from pandas in a future version. Use pandas.concat instead.\n",
      "  dataframe = dataframe.append({\"car_model\": car_model, \"years_of_manufacture\": years_of_manufacture, \"price\": price, \"fuel\": fuel}, ignore_index=True)\n",
      "C:\\Users\\ASUS\\AppData\\Local\\Temp\\ipykernel_14884\\4182071793.py:15: FutureWarning: The frame.append method is deprecated and will be removed from pandas in a future version. Use pandas.concat instead.\n",
      "  extracted_data = extracted_data.append(extract_data_from_xml(xmlfile), ignore_index=True)\n",
      "C:\\Users\\ASUS\\AppData\\Local\\Temp\\ipykernel_14884\\4271592819.py:10: FutureWarning: The frame.append method is deprecated and will be removed from pandas in a future version. Use pandas.concat instead.\n",
      "  dataframe = dataframe.append({\"car_model\": car_model, \"years_of_manufacture\": years_of_manufacture, \"price\": price, \"fuel\": fuel}, ignore_index=True)\n",
      "C:\\Users\\ASUS\\AppData\\Local\\Temp\\ipykernel_14884\\4271592819.py:10: FutureWarning: The frame.append method is deprecated and will be removed from pandas in a future version. Use pandas.concat instead.\n",
      "  dataframe = dataframe.append({\"car_model\": car_model, \"years_of_manufacture\": years_of_manufacture, \"price\": price, \"fuel\": fuel}, ignore_index=True)\n",
      "C:\\Users\\ASUS\\AppData\\Local\\Temp\\ipykernel_14884\\4271592819.py:10: FutureWarning: The frame.append method is deprecated and will be removed from pandas in a future version. Use pandas.concat instead.\n",
      "  dataframe = dataframe.append({\"car_model\": car_model, \"years_of_manufacture\": years_of_manufacture, \"price\": price, \"fuel\": fuel}, ignore_index=True)\n",
      "C:\\Users\\ASUS\\AppData\\Local\\Temp\\ipykernel_14884\\4271592819.py:10: FutureWarning: The frame.append method is deprecated and will be removed from pandas in a future version. Use pandas.concat instead.\n",
      "  dataframe = dataframe.append({\"car_model\": car_model, \"years_of_manufacture\": years_of_manufacture, \"price\": price, \"fuel\": fuel}, ignore_index=True)\n",
      "C:\\Users\\ASUS\\AppData\\Local\\Temp\\ipykernel_14884\\4271592819.py:10: FutureWarning: The frame.append method is deprecated and will be removed from pandas in a future version. Use pandas.concat instead.\n",
      "  dataframe = dataframe.append({\"car_model\": car_model, \"years_of_manufacture\": years_of_manufacture, \"price\": price, \"fuel\": fuel}, ignore_index=True)\n",
      "C:\\Users\\ASUS\\AppData\\Local\\Temp\\ipykernel_14884\\4271592819.py:10: FutureWarning: The frame.append method is deprecated and will be removed from pandas in a future version. Use pandas.concat instead.\n",
      "  dataframe = dataframe.append({\"car_model\": car_model, \"years_of_manufacture\": years_of_manufacture, \"price\": price, \"fuel\": fuel}, ignore_index=True)\n",
      "C:\\Users\\ASUS\\AppData\\Local\\Temp\\ipykernel_14884\\4271592819.py:10: FutureWarning: The frame.append method is deprecated and will be removed from pandas in a future version. Use pandas.concat instead.\n",
      "  dataframe = dataframe.append({\"car_model\": car_model, \"years_of_manufacture\": years_of_manufacture, \"price\": price, \"fuel\": fuel}, ignore_index=True)\n",
      "C:\\Users\\ASUS\\AppData\\Local\\Temp\\ipykernel_14884\\4271592819.py:10: FutureWarning: The frame.append method is deprecated and will be removed from pandas in a future version. Use pandas.concat instead.\n",
      "  dataframe = dataframe.append({\"car_model\": car_model, \"years_of_manufacture\": years_of_manufacture, \"price\": price, \"fuel\": fuel}, ignore_index=True)\n",
      "C:\\Users\\ASUS\\AppData\\Local\\Temp\\ipykernel_14884\\4271592819.py:10: FutureWarning: The frame.append method is deprecated and will be removed from pandas in a future version. Use pandas.concat instead.\n",
      "  dataframe = dataframe.append({\"car_model\": car_model, \"years_of_manufacture\": years_of_manufacture, \"price\": price, \"fuel\": fuel}, ignore_index=True)\n",
      "C:\\Users\\ASUS\\AppData\\Local\\Temp\\ipykernel_14884\\4271592819.py:10: FutureWarning: The frame.append method is deprecated and will be removed from pandas in a future version. Use pandas.concat instead.\n",
      "  dataframe = dataframe.append({\"car_model\": car_model, \"years_of_manufacture\": years_of_manufacture, \"price\": price, \"fuel\": fuel}, ignore_index=True)\n",
      "C:\\Users\\ASUS\\AppData\\Local\\Temp\\ipykernel_14884\\4182071793.py:15: FutureWarning: The frame.append method is deprecated and will be removed from pandas in a future version. Use pandas.concat instead.\n",
      "  extracted_data = extracted_data.append(extract_data_from_xml(xmlfile), ignore_index=True)\n"
     ]
    }
   ],
   "source": [
    "# Log that you have started the ETL process\n",
    "log(\"ETL Job Started\")\n",
    "# Log that you have started the Extract step\n",
    "log(\"Extract prase Started\")\n",
    "# Call the Extract function\n",
    "extract_data = extract()\n",
    "# Log that you have completed the Extract step\n",
    "log(\"Extract data Ended\")\n",
    "\n",
    "# Log that you have started the Transform step\n",
    "log(\"Transform phase Started\")\n",
    "# Call the Transform function\n",
    "transform = transform_data(extract_data)\n",
    "# Log that you have completed the Transform step\n",
    "log(\"Transform phase Ended\")\n",
    "\n",
    "# Log that you have started the Load step\n",
    "log(\"Load phase Started\")\n",
    "# Call the Load function\n",
    "load(targetfile, transform)\n",
    "# Log that you have completed the Load step\n",
    "log(\"Load phase Ended\")\n",
    "\n",
    "# Log that you have completed the ETL process\n",
    "log(\"ETL completed\")"
   ]
  },
  {
   "cell_type": "code",
   "execution_count": null,
   "id": "d714eb5f",
   "metadata": {},
   "outputs": [],
   "source": []
  },
  {
   "cell_type": "code",
   "execution_count": null,
   "id": "11db3d1c",
   "metadata": {},
   "outputs": [],
   "source": []
  }
 ],
 "metadata": {
  "kernelspec": {
   "display_name": "Python 3 (ipykernel)",
   "language": "python",
   "name": "python3"
  },
  "language_info": {
   "codemirror_mode": {
    "name": "ipython",
    "version": 3
   },
   "file_extension": ".py",
   "mimetype": "text/x-python",
   "name": "python",
   "nbconvert_exporter": "python",
   "pygments_lexer": "ipython3",
   "version": "3.11.1"
  }
 },
 "nbformat": 4,
 "nbformat_minor": 5
}
