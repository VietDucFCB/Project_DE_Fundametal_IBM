{
 "cells": [
  {
   "cell_type": "code",
   "execution_count": 59,
   "id": "8309c1ba",
   "metadata": {},
   "outputs": [],
   "source": [
    "import pandas as pd\n",
    "import requests\n",
    "from datetime import datetime       # this mdule to get real time"
   ]
  },
  {
   "cell_type": "code",
   "execution_count": 60,
   "id": "d1f8008f",
   "metadata": {},
   "outputs": [],
   "source": [
    "# url and API in manage.exchangeratesapi.io (account google)\n",
    "url = \"http://api.exchangeratesapi.io/v1/latest?base=EUR&access_key=999a944c813b8cbfa2a799d0d7cb02a0\""
   ]
  },
  {
   "cell_type": "code",
   "execution_count": 61,
   "id": "038cc35b",
   "metadata": {},
   "outputs": [],
   "source": [
    "# Common path in this project\n",
    "c_path = \"C:\\\\Users\\\\ASUS\\\\OneDrive\\\\Máy tính\\\\KHTN_HK2\\\\ExtractAPI_DE3\\\\\""
   ]
  },
  {
   "cell_type": "code",
   "execution_count": 75,
   "id": "106b6525",
   "metadata": {},
   "outputs": [
    {
     "name": "stdout",
     "output_type": "stream",
     "text": [
      "<Response [200]>\n"
     ]
    }
   ],
   "source": [
    "# get requests to url\n",
    "respons = requests.get(url)\n",
    "# check success (200)\n",
    "print(respons)"
   ]
  },
  {
   "cell_type": "code",
   "execution_count": 63,
   "id": "41b09b9c",
   "metadata": {},
   "outputs": [
    {
     "name": "stdout",
     "output_type": "stream",
     "text": [
      "{'success': True, 'timestamp': 1691677084, 'base': 'EUR', 'date': '2023-08-10', 'rates': {'AED': 4.051776, 'AFN': 92.633751, 'ALL': 103.831799, 'AMD': 425.854636, 'ANG': 1.988109, 'AOA': 909.949223, 'ARS': 315.674713, 'AUD': 1.67666, 'AWG': 1.988352, 'AZN': 1.866576, 'BAM': 1.956346, 'BBD': 2.227171, 'BDT': 120.734787, 'BGN': 1.955093, 'BHD': 0.415839, 'BIF': 3125.929824, 'BMD': 1.103108, 'BND': 1.484307, 'BOB': 7.622334, 'BRL': 5.344009, 'BSD': 1.103088, 'BTC': 3.7242678e-05, 'BTN': 91.362981, 'BWP': 14.846547, 'BYN': 2.784214, 'BYR': 21620.913588, 'BZD': 2.223581, 'CAD': 1.476692, 'CDF': 2691.583227, 'CHF': 0.962899, 'CLF': 0.03427, 'CLP': 945.595197, 'CNY': 7.955174, 'COP': 4406.375283, 'CRC': 591.881269, 'CUC': 1.103108, 'CUP': 29.232358, 'CVE': 110.29678, 'CZK': 24.202369, 'DJF': 196.410152, 'DKK': 7.451627, 'DOP': 62.589168, 'DZD': 149.511021, 'EGP': 34.086585, 'ERN': 16.546618, 'ETB': 60.83173, 'EUR': 1, 'FJD': 2.462412, 'FKP': 0.867611, 'GBP': 0.863684, 'GEL': 2.873638, 'GGP': 0.867611, 'GHS': 12.382792, 'GIP': 0.867611, 'GMD': 66.623914, 'GNF': 9483.732528, 'GTQ': 8.675657, 'GYD': 230.790682, 'HKD': 8.623154, 'HNL': 27.131571, 'HRK': 7.417142, 'HTG': 150.568606, 'HUF': 383.523042, 'IDR': 16714.289933, 'ILS': 4.093203, 'IMP': 0.867611, 'INR': 91.147429, 'IQD': 1444.170284, 'IRR': 46675.252867, 'ISK': 144.48527, 'JEP': 0.867611, 'JMD': 170.41219, 'JOD': 0.781109, 'JPY': 159.091871, 'KES': 158.405502, 'KGS': 96.930032, 'KHR': 4560.251926, 'KMF': 496.205505, 'KPW': 992.758943, 'KRW': 1443.75388, 'KWD': 0.339183, 'KYD': 0.919282, 'KZT': 491.120375, 'LAK': 21441.566662, 'LBP': 16557.770958, 'LKR': 352.738436, 'LRD': 205.95436, 'LSL': 20.630518, 'LTL': 3.25719, 'LVL': 0.667259, 'LYD': 5.289572, 'MAD': 10.791405, 'MDL': 19.519978, 'MGA': 4972.522877, 'MKD': 61.627757, 'MMK': 2316.509451, 'MNT': 3818.373582, 'MOP': 8.88202, 'MRO': 393.809308, 'MUR': 49.854503, 'MVR': 16.932354, 'MWK': 1196.666489, 'MXN': 18.66111, 'MYR': 5.0434, 'MZN': 69.771882, 'NAD': 20.62968, 'NGN': 848.554745, 'NIO': 40.360714, 'NOK': 11.209108, 'NPR': 146.180769, 'NZD': 1.814006, 'OMR': 0.42476, 'PAB': 1.103138, 'PEN': 4.078149, 'PGK': 4.008228, 'PHP': 61.791708, 'PKR': 317.255262, 'PLN': 4.450491, 'PYG': 8025.457865, 'QAR': 4.016431, 'RON': 4.942691, 'RSD': 117.285752, 'RUB': 107.530454, 'RWF': 1300.898411, 'SAR': 4.138711, 'SBD': 9.231674, 'SCR': 14.784393, 'SDG': 663.123866, 'SEK': 11.673422, 'SGD': 1.484005, 'SHP': 1.342207, 'SLE': 23.253703, 'SLL': 21786.379505, 'SOS': 628.219674, 'SSP': 663.525956, 'SRD': 42.122724, 'STD': 22832.105042, 'SYP': 14450.713132, 'SZL': 20.718688, 'THB': 38.643517, 'TJS': 12.117711, 'TMT': 3.860877, 'TND': 3.407224, 'TOP': 2.61514, 'TRY': 29.824809, 'TTD': 7.485292, 'TWD': 34.975694, 'TZS': 2752.15584, 'UAH': 40.533914, 'UGX': 4115.055098, 'USD': 1.103108, 'UYU': 42.262177, 'UZS': 12869.708122, 'VEF': 3426157.549507, 'VES': 33.166697, 'VND': 26196.053339, 'VUV': 132.627508, 'WST': 3.039257, 'XAF': 656.137129, 'XAG': 0.048511, 'XAU': 0.000575, 'XCD': 2.981204, 'XDR': 0.825112, 'XOF': 656.146054, 'XPF': 120.404117, 'YER': 276.163257, 'ZAR': 20.61962, 'ZMK': 9929.287538, 'ZMW': 20.93141, 'ZWL': 355.200273}}\n"
     ]
    }
   ],
   "source": [
    "# get json file from respons\n",
    "data = respons.json()\n",
    "print(data)"
   ]
  },
  {
   "cell_type": "code",
   "execution_count": 64,
   "id": "dd4e8a1c",
   "metadata": {},
   "outputs": [],
   "source": [
    "# get field rates in json file\n",
    "rates = data[\"rates\"]"
   ]
  },
  {
   "cell_type": "code",
   "execution_count": 65,
   "id": "59be66de",
   "metadata": {},
   "outputs": [
    {
     "data": {
      "text/html": [
       "<div>\n",
       "<style scoped>\n",
       "    .dataframe tbody tr th:only-of-type {\n",
       "        vertical-align: middle;\n",
       "    }\n",
       "\n",
       "    .dataframe tbody tr th {\n",
       "        vertical-align: top;\n",
       "    }\n",
       "\n",
       "    .dataframe thead th {\n",
       "        text-align: right;\n",
       "    }\n",
       "</style>\n",
       "<table border=\"1\" class=\"dataframe\">\n",
       "  <thead>\n",
       "    <tr style=\"text-align: right;\">\n",
       "      <th></th>\n",
       "      <th>Rate</th>\n",
       "    </tr>\n",
       "  </thead>\n",
       "  <tbody>\n",
       "    <tr>\n",
       "      <th>AED</th>\n",
       "      <td>4.051776</td>\n",
       "    </tr>\n",
       "    <tr>\n",
       "      <th>AFN</th>\n",
       "      <td>92.633751</td>\n",
       "    </tr>\n",
       "    <tr>\n",
       "      <th>ALL</th>\n",
       "      <td>103.831799</td>\n",
       "    </tr>\n",
       "    <tr>\n",
       "      <th>AMD</th>\n",
       "      <td>425.854636</td>\n",
       "    </tr>\n",
       "    <tr>\n",
       "      <th>ANG</th>\n",
       "      <td>1.988109</td>\n",
       "    </tr>\n",
       "  </tbody>\n",
       "</table>\n",
       "</div>"
      ],
      "text/plain": [
       "           Rate\n",
       "AED    4.051776\n",
       "AFN   92.633751\n",
       "ALL  103.831799\n",
       "AMD  425.854636\n",
       "ANG    1.988109"
      ]
     },
     "execution_count": 65,
     "metadata": {},
     "output_type": "execute_result"
    }
   ],
   "source": [
    "# create data frame from rates\n",
    "df = pd.DataFrame.from_dict(rates, orient=\"index\", columns=[\"Rate\"])\n",
    "df.head()"
   ]
  },
  {
   "cell_type": "code",
   "execution_count": 70,
   "id": "02311d64",
   "metadata": {},
   "outputs": [],
   "source": [
    "# change columns index to currency \n",
    "df.reset_index(inplace=True)\n",
    "df.rename(columns={\"index\": \"Currency\"}, inplace=True)"
   ]
  },
  {
   "cell_type": "code",
   "execution_count": 71,
   "id": "8e66741d",
   "metadata": {},
   "outputs": [],
   "source": [
    "# function get csv file from data frame\n",
    "def get_CSV_file(data_frame):\n",
    "    csv_filename = c_path + 'dataAPI.csv'\n",
    "    data_frame.to_csv(csv_filename, index=False)\n",
    "    return None"
   ]
  },
  {
   "cell_type": "code",
   "execution_count": 72,
   "id": "cb5d6dd6",
   "metadata": {},
   "outputs": [],
   "source": [
    "# annountment \n",
    "def log(message):\n",
    "    timestamp_format = '%H:%M:%S-%h-%d-%Y' #Hour-Minute-Second-MonthName-Day-Year\n",
    "    now = datetime.now() # get current timestamp\n",
    "    timestamp = now.strftime(timestamp_format)\n",
    "    with open(\"logfile.txt\",\"a\") as f:\n",
    "        f.write(timestamp + ',' + message + '\\n')"
   ]
  },
  {
   "cell_type": "code",
   "execution_count": 74,
   "id": "b8613b2d",
   "metadata": {},
   "outputs": [],
   "source": [
    "log(\"get data in API\")\n",
    "log(\"drop columns unessecsary\")\n",
    "log(\"convert data to csv file\")\n",
    "get_CSV_file(df)\n",
    "log(\"convert sucess\")"
   ]
  },
  {
   "cell_type": "code",
   "execution_count": null,
   "id": "dbfee462",
   "metadata": {},
   "outputs": [],
   "source": []
  }
 ],
 "metadata": {
  "kernelspec": {
   "display_name": "Python 3 (ipykernel)",
   "language": "python",
   "name": "python3"
  },
  "language_info": {
   "codemirror_mode": {
    "name": "ipython",
    "version": 3
   },
   "file_extension": ".py",
   "mimetype": "text/x-python",
   "name": "python",
   "nbconvert_exporter": "python",
   "pygments_lexer": "ipython3",
   "version": "3.11.1"
  }
 },
 "nbformat": 4,
 "nbformat_minor": 5
}
